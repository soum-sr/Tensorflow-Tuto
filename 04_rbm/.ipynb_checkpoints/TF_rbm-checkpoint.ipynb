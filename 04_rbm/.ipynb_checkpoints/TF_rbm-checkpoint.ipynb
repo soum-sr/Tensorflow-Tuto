{
 "cells": [
  {
   "cell_type": "markdown",
   "metadata": {},
   "source": [
    "# Restricted Boltzmann Machine"
   ]
  },
  {
   "cell_type": "markdown",
   "metadata": {},
   "source": [
    "These are shallow neural networks that learns to reconstruct data by an unsupervised manner. The first layer is called <b>Visible Layer</b> and the second layer is called <b>Invisible Layer</b>. Its called restricted because the neurons in the same layer are not connected to each other. RBM is a generative model. A generative model specify a probability distribution over a dataset of input vectors. We can do both supervise and unsupervised tasks with generative models.\n",
    "    \n",
    "- In unsupervised task we design the model to find P(x), where P is the probability given x as an input.\n",
    "- In supervised task we desing the model to find P(x|y), that is probability of x given y(label of x)."
   ]
  }
 ],
 "metadata": {
  "kernelspec": {
   "display_name": "Python 3",
   "language": "python",
   "name": "python3"
  },
  "language_info": {
   "codemirror_mode": {
    "name": "ipython",
    "version": 3
   },
   "file_extension": ".py",
   "mimetype": "text/x-python",
   "name": "python",
   "nbconvert_exporter": "python",
   "pygments_lexer": "ipython3",
   "version": "3.6.5"
  }
 },
 "nbformat": 4,
 "nbformat_minor": 2
}
