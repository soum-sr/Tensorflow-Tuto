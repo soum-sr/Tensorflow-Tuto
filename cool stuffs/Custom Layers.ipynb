{
 "cells": [
  {
   "cell_type": "markdown",
   "metadata": {},
   "source": [
    "# Building custom layers in tensorflow"
   ]
  },
  {
   "cell_type": "code",
   "execution_count": 1,
   "metadata": {},
   "outputs": [],
   "source": [
    "import tensorflow as tf"
   ]
  },
  {
   "cell_type": "markdown",
   "metadata": {},
   "source": [
    "When we enable eager execution, all operations execute immediately and return their values to Python without needing a Session.run(). "
   ]
  },
  {
   "cell_type": "code",
   "execution_count": 3,
   "metadata": {},
   "outputs": [],
   "source": [
    "tf.enable_eager_execution()"
   ]
  },
  {
   "cell_type": "markdown",
   "metadata": {},
   "source": [
    "In keras layers are objects, so to construct a layer we just need to construct an object. Most layers take the first argument as the number of output dimensions or channels."
   ]
  },
  {
   "cell_type": "code",
   "execution_count": 11,
   "metadata": {},
   "outputs": [],
   "source": [
    "layer = tf.keras.layers.Dense(100)"
   ]
  },
  {
   "cell_type": "markdown",
   "metadata": {},
   "source": [
    "Providing the input dimension is often unnecessary, because it can be inferred the first time the layer is used. But we can provide it manually which is helpful in complex models."
   ]
  },
  {
   "cell_type": "code",
   "execution_count": 12,
   "metadata": {},
   "outputs": [],
   "source": [
    "layer = tf.keras.layers.Dense(10, input_shape=(None, 5))"
   ]
  },
  {
   "cell_type": "markdown",
   "metadata": {},
   "source": [
    "Using a layer"
   ]
  },
  {
   "cell_type": "code",
   "execution_count": 13,
   "metadata": {},
   "outputs": [
    {
     "data": {
      "text/plain": [
       "<tf.Tensor: id=70, shape=(10, 10), dtype=float32, numpy=\n",
       "array([[0., 0., 0., 0., 0., 0., 0., 0., 0., 0.],\n",
       "       [0., 0., 0., 0., 0., 0., 0., 0., 0., 0.],\n",
       "       [0., 0., 0., 0., 0., 0., 0., 0., 0., 0.],\n",
       "       [0., 0., 0., 0., 0., 0., 0., 0., 0., 0.],\n",
       "       [0., 0., 0., 0., 0., 0., 0., 0., 0., 0.],\n",
       "       [0., 0., 0., 0., 0., 0., 0., 0., 0., 0.],\n",
       "       [0., 0., 0., 0., 0., 0., 0., 0., 0., 0.],\n",
       "       [0., 0., 0., 0., 0., 0., 0., 0., 0., 0.],\n",
       "       [0., 0., 0., 0., 0., 0., 0., 0., 0., 0.],\n",
       "       [0., 0., 0., 0., 0., 0., 0., 0., 0., 0.]], dtype=float32)>"
      ]
     },
     "execution_count": 13,
     "metadata": {},
     "output_type": "execute_result"
    }
   ],
   "source": [
    "layer(tf.zeros([10,5]))"
   ]
  },
  {
   "cell_type": "markdown",
   "metadata": {},
   "source": [
    "## Implementing custom layers\n",
    "\n",
    "The best way to do so is by extending the tf.keras.layer class and implementing:\n",
    "- '\\_\\_init_\\_\\', for initializing the layer with inputs and stuff\n",
    "- build, here we know the shapes of the input tensors and can do the rest of the initialization\n",
    "- call, here we do the forward computation"
   ]
  },
  {
   "cell_type": "code",
   "execution_count": 28,
   "metadata": {},
   "outputs": [],
   "source": [
    "# Sub class of tf.keras.layers.Layer\n",
    "class CustomLayer(tf.keras.layers.Layer):\n",
    "    # initializing with input and output\n",
    "    def __init__(self, outputs):\n",
    "        super(CustomLayer, self).__init__()\n",
    "        self.num_outputs = outputs\n",
    "    \n",
    "    # initializing the kernel or our variables\n",
    "    def build(self, input_shape):\n",
    "        self.kernel = self.add_variable(\"kernel\", shape = [int(input_shape[-1]), self.num_outputs])\n",
    "    \n",
    "    # forward computation (with our own variables or otherwise)\n",
    "    def call(self, input):\n",
    "        return tf.matmul(input, self.kernel)"
   ]
  },
  {
   "cell_type": "code",
   "execution_count": 31,
   "metadata": {},
   "outputs": [
    {
     "name": "stdout",
     "output_type": "stream",
     "text": [
      "tf.Tensor(\n",
      "[[0. 0. 0. 0. 0. 0. 0. 0. 0. 0.]\n",
      " [0. 0. 0. 0. 0. 0. 0. 0. 0. 0.]\n",
      " [0. 0. 0. 0. 0. 0. 0. 0. 0. 0.]\n",
      " [0. 0. 0. 0. 0. 0. 0. 0. 0. 0.]\n",
      " [0. 0. 0. 0. 0. 0. 0. 0. 0. 0.]\n",
      " [0. 0. 0. 0. 0. 0. 0. 0. 0. 0.]\n",
      " [0. 0. 0. 0. 0. 0. 0. 0. 0. 0.]\n",
      " [0. 0. 0. 0. 0. 0. 0. 0. 0. 0.]\n",
      " [0. 0. 0. 0. 0. 0. 0. 0. 0. 0.]\n",
      " [0. 0. 0. 0. 0. 0. 0. 0. 0. 0.]], shape=(10, 10), dtype=float32)\n",
      "[<tf.Variable 'custom_layer_5/kernel:0' shape=(5, 10) dtype=float32, numpy=\n",
      "array([[-0.51974714, -0.15228558, -0.53701925,  0.44154543,  0.51965314,\n",
      "         0.6142784 ,  0.57382613,  0.45008498,  0.42581087,  0.4227665 ],\n",
      "       [-0.5652827 ,  0.1948865 ,  0.5958591 ,  0.15037733,  0.56816083,\n",
      "         0.2699899 ,  0.24857426,  0.5635964 ,  0.4462976 ,  0.51113707],\n",
      "       [-0.23664653,  0.39654619,  0.4059072 ,  0.550376  ,  0.05814493,\n",
      "        -0.38133746, -0.39821196, -0.43864262,  0.44912165, -0.49076396],\n",
      "       [ 0.00203037, -0.30667496, -0.4415112 , -0.45286384, -0.47903994,\n",
      "        -0.06180227,  0.4898668 ,  0.13140732,  0.40175813,  0.43544012],\n",
      "       [ 0.02713239, -0.5628197 , -0.47551978, -0.23146814, -0.32545093,\n",
      "        -0.03293264, -0.63193876, -0.39685172,  0.00425529,  0.1806252 ]],\n",
      "      dtype=float32)>]\n"
     ]
    }
   ],
   "source": [
    "layer = CustomLayer(10)\n",
    "print(layer(tf.zeros([10, 5])))\n",
    "print(layer.trainable_variables)"
   ]
  }
 ],
 "metadata": {
  "kernelspec": {
   "display_name": "Python 3",
   "language": "python",
   "name": "python3"
  },
  "language_info": {
   "codemirror_mode": {
    "name": "ipython",
    "version": 3
   },
   "file_extension": ".py",
   "mimetype": "text/x-python",
   "name": "python",
   "nbconvert_exporter": "python",
   "pygments_lexer": "ipython3",
   "version": "3.6.5"
  }
 },
 "nbformat": 4,
 "nbformat_minor": 2
}
