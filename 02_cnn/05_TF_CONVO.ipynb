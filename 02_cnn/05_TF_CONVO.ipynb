{
 "cells": [
  {
   "cell_type": "markdown",
   "metadata": {},
   "source": [
    "<h1>Convolutions</h1>"
   ]
  },
  {
   "cell_type": "markdown",
   "metadata": {},
   "source": [
    "<h2>Visualization of connection of neurons in a CNN</h2>"
   ]
  },
  {
   "cell_type": "markdown",
   "metadata": {},
   "source": [
    "<img src=\"Pasted image at 2016_06_30 10_22 AM (1).png\" style=\"width: 500px;height:500px;\">"
   ]
  },
  {
   "cell_type": "markdown",
   "metadata": {},
   "source": [
    "<h2>Feature Learning</h2>"
   ]
  },
  {
   "cell_type": "markdown",
   "metadata": {},
   "source": [
    "Feature learning or engineering is a process of extracting useful patterns from input data which helps the prediction model to understand better the nature of the problem.\n",
    "\n",
    "The advantages of CNNs is that they are very good at finding features in images that grow in time. They result in high level features in the end. The final layers use all these generated features for classification or regression.\n",
    "\n",
    "<img src=\"hierarchical_features (1).png\" style=\"width:650px;height:250px;\">"
   ]
  },
  {
   "cell_type": "markdown",
   "metadata": {},
   "source": [
    "<h3>Image filter</h3>"
   ]
  },
  {
   "cell_type": "markdown",
   "metadata": {},
   "source": [
    "<b>How to create a convolved feature from an image?</b>\n",
    "<br>\n",
    "Input image:\n",
    "<img src=\"Matrix (1).bmp\" style=\"width:200px;height:200px\">\n",
    "\n",
    "$\n",
    "kernel=\n",
    "\\begin{bmatrix}\n",
    "     1          & 0      & 1     \\\\\n",
    "     0          & 1    & 0     \\\\\n",
    "     1          & 0    & 1\n",
    "\\end{bmatrix}\n",
    "\\\\\n",
    "$  \n",
    "We slide(multiply) the kernel over the image and get the convolved output\n",
    " <img src=\"https://ibm.box.com/shared/static/fvutcm8jwa5j2o7xv2zzqyz2yu3zwhz4.gif\" alt=\"HTML5 Icon\" style=\"width: 450px; height: 300px;\">\n",
    " \n",
    "<img src=\"RiverTrain-ImageConvDiagram (1).png\" style=\"width:500px;height:200px\">"
   ]
  },
  {
   "cell_type": "markdown",
   "metadata": {},
   "source": [
    "<h2>Code with python</h2>"
   ]
  },
  {
   "cell_type": "markdown",
   "metadata": {},
   "source": [
    "<h3>Convolution: 1D Operation with python</h3>"
   ]
  },
  {
   "cell_type": "markdown",
   "metadata": {},
   "source": [
    "Lets say 'h' is our image and 'x' is our kernel:<br>\n",
    "$x[i] = [3,4,5]$<br>\n",
    "$h[i] = [2,1,0]$<br>\n",
    "\n",
    "Where i is the index"
   ]
  },
  {
   "cell_type": "code",
   "execution_count": 7,
   "metadata": {},
   "outputs": [
    {
     "data": {
      "text/plain": [
       "array([ 6, 11, 14,  5,  0])"
      ]
     },
     "execution_count": 7,
     "metadata": {},
     "output_type": "execute_result"
    }
   ],
   "source": [
    "import numpy as np\n",
    "\n",
    "x = [3,4,5]\n",
    "h = [2,1,0]\n",
    "\n",
    "y = np.convolve(x,h)\n",
    "y"
   ]
  },
  {
   "cell_type": "markdown",
   "metadata": {},
   "source": [
    "Here x is sliding over h:\n"
   ]
  },
  {
   "cell_type": "markdown",
   "metadata": {},
   "source": [
    "With <b>full</b> padding"
   ]
  },
  {
   "cell_type": "code",
   "execution_count": 12,
   "metadata": {},
   "outputs": [
    {
     "data": {
      "text/plain": [
       "array([ 6, 14, 34, 34,  8])"
      ]
     },
     "execution_count": 12,
     "metadata": {},
     "output_type": "execute_result"
    }
   ],
   "source": [
    "x = [6,2]\n",
    "h = [1,2,5,4]\n",
    "\n",
    "y = np.convolve(x,h, \"full\") # FULL: zero padding, the final dimension of the array is bigger\n",
    "y"
   ]
  },
  {
   "cell_type": "markdown",
   "metadata": {},
   "source": [
    "With <b>same</b> padding"
   ]
  },
  {
   "cell_type": "code",
   "execution_count": 13,
   "metadata": {},
   "outputs": [
    {
     "data": {
      "text/plain": [
       "array([ 6, 14, 34, 34])"
      ]
     },
     "execution_count": 13,
     "metadata": {},
     "output_type": "execute_result"
    }
   ],
   "source": [
    "y = np.convolve(x,h, \"same\")\n",
    "y"
   ]
  },
  {
   "cell_type": "markdown",
   "metadata": {},
   "source": [
    "With <b>valid</b> padding"
   ]
  },
  {
   "cell_type": "code",
   "execution_count": 14,
   "metadata": {},
   "outputs": [
    {
     "data": {
      "text/plain": [
       "array([14, 34, 34])"
      ]
     },
     "execution_count": 14,
     "metadata": {},
     "output_type": "execute_result"
    }
   ],
   "source": [
    "y = np.convolve(x,h, \"valid\")\n",
    "y"
   ]
  },
  {
   "cell_type": "markdown",
   "metadata": {},
   "source": [
    "<h3>Convolution: 2D</h3>"
   ]
  },
  {
   "cell_type": "code",
   "execution_count": 22,
   "metadata": {},
   "outputs": [
    {
     "name": "stdout",
     "output_type": "stream",
     "text": [
      "Without zero padding: \n",
      "[[248   4]\n",
      " [-28 236]\n",
      " [  2 -14]]\n",
      "With zero padding(same): \n",
      "[[-255  248    4]\n",
      " [-212  -28  236]\n",
      " [-218    2  -14]]\n",
      "With zero padding(full): \n",
      "[[-255  248    4    3]\n",
      " [-212  -28  236    4]\n",
      " [-218    2  -14  230]]\n"
     ]
    }
   ],
   "source": [
    "from scipy import signal as sg\n",
    "\n",
    "I = [[255,7,3],\n",
    "     [212,240,4],\n",
    "     [218,216,230]]\n",
    "g = [[-1, 1]]\n",
    "\n",
    "print(\"Without zero padding: \")\n",
    "print('{0}'.format(sg.convolve(I, g, 'valid')))\n",
    "print(\"With zero padding(same): \")\n",
    "print('{0}'.format(sg.convolve(I,g, 'same')))\n",
    "print(\"With zero padding(full): \")\n",
    "print('{0}'.format(sg.convolve(I, g, 'full')))"
   ]
  },
  {
   "cell_type": "markdown",
   "metadata": {},
   "source": [
    "<h2>Coding with Tensorflow</h2>"
   ]
  },
  {
   "cell_type": "markdown",
   "metadata": {},
   "source": [
    "Say we have two tensors<br>\n",
    "<ul>\n",
    "    <li>3x3 Filter(4D tensor = [3,3,1,1] = [width, height, channels,number of filters])</li>\n",
    "    <li>10x10 image(4D tensor = [batch size, width, height, number of channels]</li>\n",
    "</ul>"
   ]
  },
  {
   "cell_type": "code",
   "execution_count": 25,
   "metadata": {},
   "outputs": [
    {
     "name": "stdout",
     "output_type": "stream",
     "text": [
      "Input: \n",
      "[[[[ 2.8580623 ]\n",
      "   [ 0.8395533 ]\n",
      "   [-0.63169926]\n",
      "   [-0.20900765]\n",
      "   [ 0.04205701]\n",
      "   [-2.6182022 ]\n",
      "   [-1.1230365 ]\n",
      "   [ 0.05555685]\n",
      "   [-0.4371933 ]\n",
      "   [-1.4184306 ]]\n",
      "\n",
      "  [[-1.3425683 ]\n",
      "   [-0.56563926]\n",
      "   [ 0.43372378]\n",
      "   [-0.7135836 ]\n",
      "   [-0.13832128]\n",
      "   [-0.27038825]\n",
      "   [ 0.79182607]\n",
      "   [ 0.458497  ]\n",
      "   [ 0.04364381]\n",
      "   [ 1.4065547 ]]\n",
      "\n",
      "  [[ 1.0589905 ]\n",
      "   [ 0.7446215 ]\n",
      "   [-0.08658664]\n",
      "   [-1.0136846 ]\n",
      "   [-0.57094324]\n",
      "   [ 0.55181444]\n",
      "   [ 1.0723727 ]\n",
      "   [-2.1045315 ]\n",
      "   [ 0.8989452 ]\n",
      "   [-0.56593215]]\n",
      "\n",
      "  [[-1.5417403 ]\n",
      "   [-0.8161733 ]\n",
      "   [ 1.0231563 ]\n",
      "   [ 2.156162  ]\n",
      "   [-1.9933314 ]\n",
      "   [-0.8961456 ]\n",
      "   [ 0.3357417 ]\n",
      "   [-1.087131  ]\n",
      "   [-0.2464215 ]\n",
      "   [ 0.72555673]]\n",
      "\n",
      "  [[-0.3095115 ]\n",
      "   [-0.56557226]\n",
      "   [-0.22293262]\n",
      "   [ 0.025158  ]\n",
      "   [ 0.02941548]\n",
      "   [-0.7916562 ]\n",
      "   [-1.2088197 ]\n",
      "   [-1.0782242 ]\n",
      "   [-0.14794368]\n",
      "   [ 0.494825  ]]\n",
      "\n",
      "  [[ 2.783684  ]\n",
      "   [-0.6678518 ]\n",
      "   [-0.85132384]\n",
      "   [ 0.07001717]\n",
      "   [-0.5587797 ]\n",
      "   [-0.39698976]\n",
      "   [ 1.0129025 ]\n",
      "   [-0.91655546]\n",
      "   [-1.2888547 ]\n",
      "   [ 0.6160357 ]]\n",
      "\n",
      "  [[ 0.55865806]\n",
      "   [ 0.92515534]\n",
      "   [ 0.5761995 ]\n",
      "   [-0.8942665 ]\n",
      "   [-0.2332856 ]\n",
      "   [-0.57362205]\n",
      "   [ 0.40517431]\n",
      "   [ 0.0892603 ]\n",
      "   [ 0.07482433]\n",
      "   [-0.49222323]]\n",
      "\n",
      "  [[ 1.1657798 ]\n",
      "   [ 0.5455861 ]\n",
      "   [-1.9180471 ]\n",
      "   [ 1.9002526 ]\n",
      "   [-0.6351686 ]\n",
      "   [ 0.36573365]\n",
      "   [-0.47777358]\n",
      "   [ 1.3129263 ]\n",
      "   [ 1.7888666 ]\n",
      "   [ 0.1387531 ]]\n",
      "\n",
      "  [[ 1.5590969 ]\n",
      "   [ 0.2157447 ]\n",
      "   [ 0.01964734]\n",
      "   [ 0.84543407]\n",
      "   [-1.4279758 ]\n",
      "   [-0.08477416]\n",
      "   [ 0.7148262 ]\n",
      "   [-0.01621996]\n",
      "   [-0.29186425]\n",
      "   [ 0.21638122]]\n",
      "\n",
      "  [[ 1.7962977 ]\n",
      "   [ 0.26181778]\n",
      "   [ 0.25031042]\n",
      "   [-1.0879902 ]\n",
      "   [-0.30425724]\n",
      "   [ 0.70197356]\n",
      "   [-0.9548791 ]\n",
      "   [ 0.80459464]\n",
      "   [-0.295993  ]\n",
      "   [-1.6406195 ]]]]\n",
      "Filter/Kernel: \n",
      "[[[[ 0.30751333]]\n",
      "\n",
      "  [[-0.49699146]]\n",
      "\n",
      "  [[ 0.01680379]]]\n",
      "\n",
      "\n",
      " [[[-0.27517217]]\n",
      "\n",
      "  [[ 0.78136957]]\n",
      "\n",
      "  [[-1.1040105 ]]]\n",
      "\n",
      "\n",
      " [[[-0.57082367]]\n",
      "\n",
      "  [[ 1.8219411 ]]\n",
      "\n",
      "  [[-0.8877055 ]]]]\n",
      "Result/Feature map with valid positions: \n",
      "[[[[ 0.7286781 ]\n",
      "   [ 2.1680114 ]\n",
      "   [-1.9045057 ]\n",
      "   [-0.69381905]\n",
      "   [ 0.627221  ]\n",
      "   [ 3.4478831 ]\n",
      "   [-5.5325894 ]\n",
      "   [ 1.9071387 ]]\n",
      "\n",
      "  [[-1.2536585 ]\n",
      "   [ 0.86105835]\n",
      "   [ 5.461638  ]\n",
      "   [-4.9986324 ]\n",
      "   [-1.2834048 ]\n",
      "   [ 4.6288204 ]\n",
      "   [-4.869176  ]\n",
      "   [ 1.5767646 ]]\n",
      "\n",
      "  [[-2.0448003 ]\n",
      "   [-1.2070549 ]\n",
      "   [ 4.2184258 ]\n",
      "   [-0.43819517]\n",
      "   [-1.3402399 ]\n",
      "   [ 0.517146  ]\n",
      "   [-0.42208475]\n",
      "   [-1.8911972 ]]\n",
      "\n",
      "  [[-2.211968  ]\n",
      "   [-2.0015812 ]\n",
      "   [ 0.36762697]\n",
      "   [ 1.8230957 ]\n",
      "   [-0.7575646 ]\n",
      "   [ 2.8886635 ]\n",
      "   [-0.81110287]\n",
      "   [-2.9367232 ]]\n",
      "\n",
      "  [[ 0.68938625]\n",
      "   [ 0.6941196 ]\n",
      "   [-0.9258156 ]\n",
      "   [ 0.55685824]\n",
      "   [-2.1641269 ]\n",
      "   [ 3.2381928 ]\n",
      "   [ 0.45459402]\n",
      "   [-1.1623749 ]]\n",
      "\n",
      "  [[ 3.1378937 ]\n",
      "   [-4.091036  ]\n",
      "   [ 4.21512   ]\n",
      "   [-1.5769639 ]\n",
      "   [ 0.66419184]\n",
      "   [-2.5097303 ]\n",
      "   [ 1.6978014 ]\n",
      "   [ 3.3329601 ]]\n",
      "\n",
      "  [[ 1.4304049 ]\n",
      "   [-4.6014805 ]\n",
      "   [ 6.128275  ]\n",
      "   [-4.600696  ]\n",
      "   [ 1.2342899 ]\n",
      "   [-0.9345455 ]\n",
      "   [-0.9145868 ]\n",
      "   [ 0.15070732]]\n",
      "\n",
      "  [[-0.9975785 ]\n",
      "   [ 1.4479902 ]\n",
      "   [-1.1682637 ]\n",
      "   [-0.9050872 ]\n",
      "   [ 1.452689  ]\n",
      "   [-1.8829224 ]\n",
      "   [ 1.6172183 ]\n",
      "   [-0.4876318 ]]]]\n",
      "Result/Feature map with padding: \n",
      "[[[[-0.637632  ]\n",
      "   [-0.08226588]\n",
      "   [ 1.2526858 ]\n",
      "   [-1.460816  ]\n",
      "   [ 3.37624   ]\n",
      "   [-1.9340949 ]\n",
      "   [ 0.97160876]\n",
      "   [ 1.1797234 ]\n",
      "   [-0.22174597]\n",
      "   [ 1.549732  ]]\n",
      "\n",
      "  [[-0.56248146]\n",
      "   [ 0.7286781 ]\n",
      "   [ 2.1680114 ]\n",
      "   [-1.9045057 ]\n",
      "   [-0.69381905]\n",
      "   [ 0.627221  ]\n",
      "   [ 3.4478831 ]\n",
      "   [-5.5325894 ]\n",
      "   [ 1.9071387 ]\n",
      "   [ 0.11330044]]\n",
      "\n",
      "  [[-1.4213053 ]\n",
      "   [-1.2536585 ]\n",
      "   [ 0.86105835]\n",
      "   [ 5.461638  ]\n",
      "   [-4.9986324 ]\n",
      "   [-1.2834048 ]\n",
      "   [ 4.6288204 ]\n",
      "   [-4.869176  ]\n",
      "   [ 1.5767646 ]\n",
      "   [ 0.08739346]]\n",
      "\n",
      "  [[-0.87925196]\n",
      "   [-2.0448003 ]\n",
      "   [-1.2070549 ]\n",
      "   [ 4.2184258 ]\n",
      "   [-0.43819517]\n",
      "   [-1.3402399 ]\n",
      "   [ 0.517146  ]\n",
      "   [-0.42208475]\n",
      "   [-1.8911972 ]\n",
      "   [ 2.1784291 ]]\n",
      "\n",
      "  [[ 6.799636  ]\n",
      "   [-2.211968  ]\n",
      "   [-2.0015812 ]\n",
      "   [ 0.36762697]\n",
      "   [ 1.8230957 ]\n",
      "   [-0.7575646 ]\n",
      "   [ 2.8886635 ]\n",
      "   [-0.81110287]\n",
      "   [-2.9367232 ]\n",
      "   [ 1.8490673 ]]\n",
      "\n",
      "  [[ 3.2532985 ]\n",
      "   [ 0.68938625]\n",
      "   [ 0.6941196 ]\n",
      "   [-0.9258156 ]\n",
      "   [ 0.55685824]\n",
      "   [-2.1641269 ]\n",
      "   [ 3.2381928 ]\n",
      "   [ 0.45459402]\n",
      "   [-1.1623749 ]\n",
      "   [-0.39492318]]\n",
      "\n",
      "  [[-0.33989   ]\n",
      "   [ 3.1378937 ]\n",
      "   [-4.091036  ]\n",
      "   [ 4.21512   ]\n",
      "   [-1.5769639 ]\n",
      "   [ 0.66419184]\n",
      "   [-2.5097303 ]\n",
      "   [ 1.6978014 ]\n",
      "   [ 3.3329601 ]\n",
      "   [-1.8760297 ]]\n",
      "\n",
      "  [[ 2.695535  ]\n",
      "   [ 1.4304049 ]\n",
      "   [-4.6014805 ]\n",
      "   [ 6.128275  ]\n",
      "   [-4.600696  ]\n",
      "   [ 1.2342899 ]\n",
      "   [-0.9345455 ]\n",
      "   [-0.9145868 ]\n",
      "   [ 0.15070732]\n",
      "   [ 0.4446482 ]]\n",
      "\n",
      "  [[ 3.4501634 ]\n",
      "   [-0.9975785 ]\n",
      "   [ 1.4479902 ]\n",
      "   [-1.1682637 ]\n",
      "   [-0.9050872 ]\n",
      "   [ 1.452689  ]\n",
      "   [-1.8829224 ]\n",
      "   [ 1.6172183 ]\n",
      "   [-0.4876318 ]\n",
      "   [-2.0896246 ]]\n",
      "\n",
      "  [[ 0.3432902 ]\n",
      "   [-0.19351006]\n",
      "   [ 1.3954788 ]\n",
      "   [-1.0212247 ]\n",
      "   [ 0.25491056]\n",
      "   [ 1.3014426 ]\n",
      "   [-2.2091622 ]\n",
      "   [ 1.4411967 ]\n",
      "   [ 1.5022813 ]\n",
      "   [-1.397773  ]]]]\n"
     ]
    }
   ],
   "source": [
    "import tensorflow as tf\n",
    "\n",
    "#GRAPH\n",
    "input = tf.Variable(tf.random_normal([1,10,10,1]))\n",
    "filter = tf.Variable(tf.random_normal([3,3,1,1]))\n",
    "op = tf.nn.conv2d(input, filter, strides=[1,1,1,1], padding = 'VALID')\n",
    "op2 = tf.nn.conv2d(input, filter, strides = [1,1,1,1], padding = 'SAME')\n",
    "\n",
    "# Initialization and session\n",
    "init = tf.global_variables_initializer()\n",
    "\n",
    "with tf.Session() as sess:\n",
    "    sess.run(init)\n",
    "    \n",
    "    print(\"Input: \")\n",
    "    print('{0}'.format(input.eval()))\n",
    "    print(\"Filter/Kernel: \")\n",
    "    print('{0}'.format(filter.eval()))\n",
    "    print(\"Result/Feature map with valid positions: \")\n",
    "    result =  sess.run(op)\n",
    "    print(result)\n",
    "    print(\"Result/Feature map with padding: \")\n",
    "    result2 = sess.run(op2)\n",
    "    print(result2)"
   ]
  },
  {
   "cell_type": "markdown",
   "metadata": {},
   "source": [
    "<h2>Convolution on an image</h2>"
   ]
  },
  {
   "cell_type": "code",
   "execution_count": 86,
   "metadata": {},
   "outputs": [
    {
     "name": "stdout",
     "output_type": "stream",
     "text": [
      "Original: <PIL.Image.Image image mode=L size=1920x1080 at 0x205893804A8>\n",
      "After conversion to numerical representation: array([[0, 0, 0, ..., 0, 0, 0],\n",
      "       [0, 0, 0, ..., 0, 0, 0],\n",
      "       [0, 0, 0, ..., 0, 0, 0],\n",
      "       ...,\n",
      "       [0, 0, 0, ..., 0, 0, 0],\n",
      "       [0, 0, 0, ..., 0, 0, 0],\n",
      "       [0, 0, 0, ..., 0, 0, 0]], dtype=uint8): \n",
      "INPUT->GREYSCALE\n"
     ]
    },
    {
     "data": {
      "image/png": "[encoded data removed]",
      "text/plain": [
       "<Figure size 432x288 with 1 Axes>"
      ]
     },
     "metadata": {
      "needs_background": "light"
     },
     "output_type": "display_data"
    }
   ],
   "source": [
    "import numpy as np\n",
    "from scipy import signal\n",
    "from scipy import misc\n",
    "import matplotlib.pyplot as plt\n",
    "from PIL import Image\n",
    "%matplotlib inline\n",
    "\n",
    "im = Image.open('img.jpg')\n",
    "img_gr = im.convert(\"L\") # Convert(\"L\") translate color image into black and white\n",
    "\n",
    "print(\"Original: %r\" % img_gr)\n",
    "arr = np.asarray(img_gr)\n",
    "print(\"After conversion to numerical representation: %r: \" % arr)\n",
    "\n",
    "#PLOT\n",
    "imgplot = plt.imshow(arr)\n",
    "imgplot.set_cmap('gray')\n",
    "print(\"INPUT->GREYSCALE\")\n",
    "plt.show(imgplot)"
   ]
  },
  {
   "cell_type": "markdown",
   "metadata": {},
   "source": [
    "<h4>Edge detector kernel</h4>"
   ]
  },
  {
   "cell_type": "code",
   "execution_count": 87,
   "metadata": {},
   "outputs": [],
   "source": [
    "kernel = np.array([[ 0, 1, 0],\n",
    "                   [ 1,-4, 1],\n",
    "                   [ 0, 1, 0],]) \n",
    "\n",
    "grad = signal.convolve2d(arr, kernel, mode='same', boundary='symm')"
   ]
  },
  {
   "cell_type": "code",
   "execution_count": 88,
   "metadata": {},
   "outputs": [
    {
     "name": "stdout",
     "output_type": "stream",
     "text": [
      "GRADIENT MAGNITUDE - FEATURE MAP\n"
     ]
    },
    {
     "data": {
      "text/plain": [
       "<matplotlib.image.AxesImage at 0x20585175908>"
      ]
     },
     "execution_count": 88,
     "metadata": {},
     "output_type": "execute_result"
    },
    {
     "data": {
      "image/png": "[encoded data removed]",
      "text/plain": [
       "<Figure size 504x504 with 1 Axes>"
      ]
     },
     "metadata": {
      "needs_background": "light"
     },
     "output_type": "display_data"
    }
   ],
   "source": [
    "%matplotlib inline\n",
    "\n",
    "print(\"GRADIENT MAGNITUDE - FEATURE MAP\")\n",
    "\n",
    "fig, aux = plt.subplots(figsize = (7,7))\n",
    "aux.imshow(np.absolute(grad), cmap = 'gray')"
   ]
  },
  {
   "cell_type": "markdown",
   "metadata": {},
   "source": [
    "Same thing but with a MNIST number image"
   ]
  },
  {
   "cell_type": "code",
   "execution_count": 65,
   "metadata": {},
   "outputs": [
    {
     "name": "stdout",
     "output_type": "stream",
     "text": [
      "Original: <PIL.Image.Image image mode=L size=181x181 at 0x2059365E748>\n",
      "After conversion to numerical representation: array([[26, 14, 12, ..., 11, 11, 11],\n",
      "       [ 0,  0,  1, ...,  0,  0,  0],\n",
      "       [12,  1,  0, ...,  0,  0,  0],\n",
      "       ...,\n",
      "       [12,  0,  0, ...,  0,  0,  0],\n",
      "       [12,  0,  0, ...,  0,  0,  0],\n",
      "       [12,  0,  0, ...,  0,  0,  0]], dtype=uint8): \n",
      "INPUT->GREYSCALE\n"
     ]
    },
    {
     "data": {
      "image/png": "[encoded data removed]",
      "text/plain": [
       "<Figure size 432x288 with 1 Axes>"
      ]
     },
     "metadata": {
      "needs_background": "light"
     },
     "output_type": "display_data"
    }
   ],
   "source": [
    "im = Image.open('num3.jpg')\n",
    "img_gr = im.convert(\"L\") # Convert(\"L\") translate color image into black and white\n",
    "\n",
    "print(\"Original: %r\" % img_gr)\n",
    "arr = np.asarray(img_gr)\n",
    "print(\"After conversion to numerical representation: %r: \" % arr)\n",
    "\n",
    "#PLOT\n",
    "imgplot = plt.imshow(arr)\n",
    "imgplot.set_cmap('gray')\n",
    "print(\"INPUT->GREYSCALE\")\n",
    "plt.show(imgplot)"
   ]
  },
  {
   "cell_type": "code",
   "execution_count": 84,
   "metadata": {},
   "outputs": [
    {
     "name": "stdout",
     "output_type": "stream",
     "text": [
      "GRADIENT MAGNITUDE - Feature map\n"
     ]
    },
    {
     "data": {
      "text/plain": [
       "<matplotlib.image.AxesImage at 0x20584277a58>"
      ]
     },
     "execution_count": 84,
     "metadata": {},
     "output_type": "execute_result"
    },
    {
     "data": {
      "image/png": "[encoded data removed]",
      "text/plain": [
       "<Figure size 504x504 with 1 Axes>"
      ]
     },
     "metadata": {
      "needs_background": "light"
     },
     "output_type": "display_data"
    }
   ],
   "source": [
    "kernel = np.array([\n",
    "                        [ -1, -1, -1],\n",
    "                        [ -1,8, -1],\n",
    "                        [ -1, -1, -1],\n",
    "                                     ]) \n",
    "kernel2 = np.array([\n",
    "                        [ 0,-1,0 ],\n",
    "                        [ -1,5,-1 ],\n",
    "                        [ 0,-1 ,0 ],\n",
    "                                     ]) \n",
    "\n",
    "grad = signal.convolve2d(arr, kernel, mode='same', boundary='symm')\n",
    "%matplotlib inline\n",
    "\n",
    "print('GRADIENT MAGNITUDE - Feature map')\n",
    "\n",
    "fig, aux = plt.subplots(figsize=(7, 7))\n",
    "aux.imshow(np.absolute(grad), cmap='gray')"
   ]
  },
  {
   "cell_type": "code",
   "execution_count": null,
   "metadata": {},
   "outputs": [],
   "source": []
  }
 ],
 "metadata": {
  "kernelspec": {
   "display_name": "Python 3",
   "language": "python",
   "name": "python3"
  },
  "language_info": {
   "codemirror_mode": {
    "name": "ipython",
    "version": 3
   },
   "file_extension": ".py",
   "mimetype": "text/x-python",
   "name": "python",
   "nbconvert_exporter": "python",
   "pygments_lexer": "ipython3",
   "version": "3.6.5"
  }
 },
 "nbformat": 4,
 "nbformat_minor": 2
}
