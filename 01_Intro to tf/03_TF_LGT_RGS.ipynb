{
 "cells": [
  {
   "cell_type": "markdown",
   "metadata": {},
   "source": [
    "<h1>Logistic Regression</h1>\n",
    "<h1>______________________________________</h1>"
   ]
  },
  {
   "cell_type": "markdown",
   "metadata": {},
   "source": [
    "<p>Logistic Regression is a variation of Linear Regression, used for categorical outputs. It is actually a <b>probabilistic classification</b> model.</p>\n",
    "<p><i><b>\n",
    "$$\n",
    "ProbabilityOfaClass = \\theta(y) = \\frac{e^y}{1 + e^y} = exp(y) / (1 + exp(y)) = p \n",
    "$$\n",
    "</b></i></p>\n"
   ]
  },
  {
   "cell_type": "markdown",
   "metadata": {},
   "source": [
    "<h2>Logistic Regression with Tensorflow</h2>"
   ]
  },
  {
   "cell_type": "code",
   "execution_count": 1,
   "metadata": {},
   "outputs": [],
   "source": [
    "import tensorflow as tf\n",
    "import pandas as pd\n",
    "import numpy as np\n",
    "import time\n",
    "from sklearn.datasets import load_iris\n",
    "from sklearn.model_selection import train_test_split\n",
    "import matplotlib.pyplot as plt"
   ]
  },
  {
   "cell_type": "markdown",
   "metadata": {},
   "source": [
    "<p>We will load the <b>iris</b> dataset which is inbuilt in sklearn, so we don't have to preprocess it.We separate dataset into xs and ys, and then into training xs and ys.</p>\n",
    "<p>You can read about the data <a href= 'https://archive.ics.uci.edu/ml/datasets/iris'>here</a></p>"
   ]
  },
  {
   "cell_type": "code",
   "execution_count": 5,
   "metadata": {},
   "outputs": [],
   "source": [
    "iris = load_iris()\n",
    "iris_X, iris_y = iris.data[:-1,:], iris.target[:-1]\n",
    "iris_y= pd.get_dummies(iris_y).values\n",
    "trainX, testX, trainY, testY = train_test_split(iris_X, iris_y, test_size=0.33, random_state=42)"
   ]
  },
  {
   "cell_type": "markdown",
   "metadata": {},
   "source": [
    "<p>We define x and y, these placeholders will hold our iris data (both features and label matrices), and help pass them along to different parts of the algorithm. We need to give them shapes which correspond to the shape of our data. Later, we will insert data into these placeholders by \"feeding\" the placeholders the data via a \"feed_dict\"(Feed Dictionary)</p>"
   ]
  },
  {
   "cell_type": "code",
   "execution_count": 7,
   "metadata": {},
   "outputs": [],
   "source": [
    "numFeatures = trainX.shape[1]\n",
    "numLabels = trainY.shape[1]\n",
    "\n",
    "#placeholders\n",
    "X = tf.placeholder(tf.float32, [None, numFeatures]) # Iris has 4 features, so X is a tensor to hold our data\n",
    "yGold = tf.placeholder(tf.float32, [None, numLabels]) # This is our original output for 3 classesb"
   ]
  },
  {
   "cell_type": "markdown",
   "metadata": {},
   "source": [
    "<h3>Model weights and bias</h3>"
   ]
  },
  {
   "cell_type": "code",
   "execution_count": 14,
   "metadata": {},
   "outputs": [],
   "source": [
    "W = tf.Variable(tf.zeros([4,3])) # 4D input and 3 classes\n",
    "b = tf.Variable(tf.zeros([3])) # 3D output [0,0,1],[0,1,0],[1,0,0]"
   ]
  },
  {
   "cell_type": "code",
   "execution_count": 17,
   "metadata": {},
   "outputs": [],
   "source": [
    "# Randomly sample from a normal distribution with standard deviation 0.01\n",
    "weights = tf.Variable(tf.random_normal([numFeatures, numLabels], mean = 0, stddev=0.01, name=\"weights\"))\n",
    "bias = tf.Variable(tf.random_normal([1, numLabels], mean = 0, stddev = 0.01, name=\"bias\"))"
   ]
  },
  {
   "cell_type": "markdown",
   "metadata": {},
   "source": [
    "<h3>Logistic Regression model</h3>\n",
    "<p>Equation: </p>\n",
    "<p>\n",
    "    $$\n",
    "ŷ =sigmoid(WX+b)\n",
    "$$\n",
    "\n",
    "<p>\n",
    "    \n",
    "Its three main components: \n",
    "- a weight times features matrix multiplication operation, \n",
    "- a summation of the weighted features and a bias term, \n",
    "- and finally the application of a sigmoid function. \n"
   ]
  },
  {
   "cell_type": "code",
   "execution_count": 19,
   "metadata": {},
   "outputs": [],
   "source": [
    "apply_weights_OP = tf.matmul(X, weights, name=\"apply_weights\")\n",
    "add_bias_OP = tf.add(apply_weights_OP, bias,name=\"add_bias\")\n",
    "activation_OP = tf.nn.sigmoid(add_bias_OP, name=\"activation\")"
   ]
  },
  {
   "cell_type": "markdown",
   "metadata": {},
   "source": [
    "<h3>Training</h3>"
   ]
  },
  {
   "cell_type": "markdown",
   "metadata": {},
   "source": [
    "<h4>Cost function</h4>\n",
    "Before defining our cost function we need to define our learning rate and number of epochs"
   ]
  },
  {
   "cell_type": "code",
   "execution_count": 22,
   "metadata": {},
   "outputs": [],
   "source": [
    "numEpochs = 1000\n",
    "learningRate = tf.train.exponential_decay(learning_rate = 0.0008, global_step=1, decay_steps=trainX.shape[0], \n",
    "                                          decay_rate=0.95, staircase=True)"
   ]
  },
  {
   "cell_type": "code",
   "execution_count": 23,
   "metadata": {},
   "outputs": [],
   "source": [
    "# Cost function: Square mean error\n",
    "cost_OP = tf.nn.l2_loss(activation_OP-yGold, name=\"squared_error_cost\")\n",
    "\n",
    "# Gradient Descent\n",
    "training_OP = tf.train.GradientDescentOptimizer(learningRate).minimize(cost_OP)"
   ]
  },
  {
   "cell_type": "markdown",
   "metadata": {},
   "source": [
    "Initialize all variable and start the session"
   ]
  },
  {
   "cell_type": "code",
   "execution_count": 24,
   "metadata": {},
   "outputs": [],
   "source": [
    "# Create a session\n",
    "sess = tf.Session()\n",
    "# initialize our weights and biases\n",
    "init_OP = tf.global_variables_initializer()\n",
    "# Initialize all tf variables\n",
    "sess.run(init_OP)"
   ]
  },
  {
   "cell_type": "markdown",
   "metadata": {},
   "source": [
    "Stuffs to keep track of our models efficiency over time"
   ]
  },
  {
   "cell_type": "code",
   "execution_count": 32,
   "metadata": {},
   "outputs": [],
   "source": [
    "# argmax(activation_OP, 1) returns the label with the most probability\n",
    "# argmax(yGold, 1) is the correct label\n",
    "correct_predictions_OP = tf.equal(tf.argmax(activation_OP,1),tf.argmax(yGold,1))\n",
    "\n",
    "# 0 for false and 1 for true means the avg is accuracy\n",
    "accuracy_OP = tf.reduce_mean(tf.cast(correct_predictions_OP, \"float\"))\n",
    "\n",
    "# Summary op for regression output\n",
    "activation_summary_OP = tf.summary.histogram(\"output\", activation_OP)\n",
    "\n",
    "# Summary op for accuracy\n",
    "accuracy_summary_OP = tf.summary.scalar(\"accuracy\", accuracy_OP)\n",
    "\n",
    "# Summary op for cost\n",
    "cost_summary_OP = tf.summary.scalar(\"cost\", cost_OP)\n",
    "\n",
    "# Summary ops to check how variables (W, b) are updating after each iteration\n",
    "weightSummary = tf.summary.histogram(\"weights\", weights.eval(session=sess))\n",
    "biasSummary = tf.summary.histogram(\"biases\", bias.eval(session=sess))\n",
    "\n",
    "# Merge all summaries\n",
    "merged = tf.summary.merge([activation_summary_OP, accuracy_summary_OP, cost_summary_OP, weightSummary, biasSummary])\n",
    "\n",
    "# Summary writer\n",
    "writer = tf.summary.FileWriter(\"summary_logs\", sess.graph)"
   ]
  },
  {
   "cell_type": "markdown",
   "metadata": {},
   "source": [
    "Define and run the actual training loop"
   ]
  },
  {
   "cell_type": "code",
   "execution_count": 34,
   "metadata": {},
   "outputs": [
    {
     "name": "stdout",
     "output_type": "stream",
     "text": [
      "Step 0, training accuracy 0.353535, cost 34.9963, change in cost 34.9963\n",
      "Step 10, training accuracy 0.585859, cost 30.2296, change in cost 4.76676\n",
      "Step 20, training accuracy 0.646465, cost 28.2664, change in cost 1.96315\n",
      "Step 30, training accuracy 0.646465, cost 26.6125, change in cost 1.65395\n",
      "Step 40, training accuracy 0.646465, cost 25.2391, change in cost 1.37335\n",
      "Step 50, training accuracy 0.646465, cost 24.1047, change in cost 1.13446\n",
      "Step 60, training accuracy 0.646465, cost 23.1655, change in cost 0.939184\n",
      "Step 70, training accuracy 0.646465, cost 22.3828, change in cost 0.782618\n",
      "Step 80, training accuracy 0.646465, cost 21.7249, change in cost 0.657932\n",
      "Step 90, training accuracy 0.646465, cost 21.1663, change in cost 0.558575\n",
      "Step 100, training accuracy 0.656566, cost 20.6873, change in cost 0.479006\n",
      "Step 110, training accuracy 0.666667, cost 20.2725, change in cost 0.414839\n",
      "Step 120, training accuracy 0.666667, cost 19.9098, change in cost 0.362658\n",
      "Step 130, training accuracy 0.666667, cost 19.59, change in cost 0.319853\n",
      "Step 140, training accuracy 0.666667, cost 19.3055, change in cost 0.284437\n",
      "Step 150, training accuracy 0.666667, cost 19.0507, change in cost 0.254887\n",
      "Step 160, training accuracy 0.666667, cost 18.8206, change in cost 0.230022\n",
      "Step 170, training accuracy 0.686869, cost 18.6117, change in cost 0.208942\n",
      "Step 180, training accuracy 0.686869, cost 18.4208, change in cost 0.190933\n",
      "Step 190, training accuracy 0.686869, cost 18.2453, change in cost 0.175444\n",
      "Step 200, training accuracy 0.717172, cost 18.0833, change in cost 0.162027\n",
      "Step 210, training accuracy 0.737374, cost 17.9329, change in cost 0.150345\n",
      "Step 220, training accuracy 0.737374, cost 17.7928, change in cost 0.1401\n",
      "Step 230, training accuracy 0.737374, cost 17.6618, change in cost 0.131075\n",
      "Step 240, training accuracy 0.747475, cost 17.5387, change in cost 0.123075\n",
      "Step 250, training accuracy 0.757576, cost 17.4227, change in cost 0.115961\n",
      "Step 260, training accuracy 0.777778, cost 17.3131, change in cost 0.109589\n",
      "Step 270, training accuracy 0.787879, cost 17.2093, change in cost 0.103868\n",
      "Step 280, training accuracy 0.787879, cost 17.1106, change in cost 0.0987053\n",
      "Step 290, training accuracy 0.787879, cost 17.0165, change in cost 0.0940323\n",
      "Step 300, training accuracy 0.79798, cost 16.9268, change in cost 0.089777\n",
      "Step 310, training accuracy 0.79798, cost 16.8409, change in cost 0.0858994\n",
      "Step 320, training accuracy 0.79798, cost 16.7585, change in cost 0.0823479\n",
      "Step 330, training accuracy 0.79798, cost 16.6794, change in cost 0.0790844\n",
      "Step 340, training accuracy 0.79798, cost 16.6034, change in cost 0.0760765\n",
      "Step 350, training accuracy 0.818182, cost 16.5301, change in cost 0.0732994\n",
      "Step 360, training accuracy 0.828283, cost 16.4593, change in cost 0.0707245\n",
      "Step 370, training accuracy 0.838384, cost 16.391, change in cost 0.0683346\n",
      "Step 380, training accuracy 0.838384, cost 16.3249, change in cost 0.0661049\n",
      "Step 390, training accuracy 0.838384, cost 16.2609, change in cost 0.0640259\n",
      "Step 400, training accuracy 0.848485, cost 16.1988, change in cost 0.0620804\n",
      "Step 410, training accuracy 0.848485, cost 16.1385, change in cost 0.0602493\n",
      "Step 420, training accuracy 0.848485, cost 16.08, change in cost 0.0585346\n",
      "Step 430, training accuracy 0.848485, cost 16.0231, change in cost 0.0569229\n",
      "Step 440, training accuracy 0.868687, cost 15.9677, change in cost 0.0553942\n",
      "Step 450, training accuracy 0.868687, cost 15.9137, change in cost 0.0539522\n",
      "Step 460, training accuracy 0.868687, cost 15.8611, change in cost 0.0525894\n",
      "Step 470, training accuracy 0.868687, cost 15.8099, change in cost 0.0512924\n",
      "Step 480, training accuracy 0.878788, cost 15.7598, change in cost 0.050065\n",
      "Step 490, training accuracy 0.878788, cost 15.7109, change in cost 0.0488958\n",
      "Step 500, training accuracy 0.878788, cost 15.6631, change in cost 0.04778\n",
      "Step 510, training accuracy 0.878788, cost 15.6164, change in cost 0.0467186\n",
      "Step 520, training accuracy 0.878788, cost 15.5707, change in cost 0.045702\n",
      "Step 530, training accuracy 0.878788, cost 15.526, change in cost 0.0447302\n",
      "Step 540, training accuracy 0.878788, cost 15.4822, change in cost 0.0438023\n",
      "Step 550, training accuracy 0.89899, cost 15.4393, change in cost 0.0429077\n",
      "Step 560, training accuracy 0.89899, cost 15.3972, change in cost 0.0420551\n",
      "Step 570, training accuracy 0.89899, cost 15.356, change in cost 0.0412321\n",
      "Step 580, training accuracy 0.89899, cost 15.3155, change in cost 0.0404415\n",
      "Step 590, training accuracy 0.909091, cost 15.2758, change in cost 0.0396814\n",
      "Step 600, training accuracy 0.909091, cost 15.2369, change in cost 0.0389481\n",
      "Step 610, training accuracy 0.909091, cost 15.1987, change in cost 0.0382404\n",
      "Step 620, training accuracy 0.909091, cost 15.1611, change in cost 0.0375614\n",
      "Step 630, training accuracy 0.909091, cost 15.1242, change in cost 0.0369015\n",
      "Step 640, training accuracy 0.909091, cost 15.0879, change in cost 0.0362625\n",
      "Step 650, training accuracy 0.909091, cost 15.0523, change in cost 0.0356483\n",
      "Step 660, training accuracy 0.909091, cost 15.0172, change in cost 0.0350533\n",
      "Step 670, training accuracy 0.909091, cost 14.9827, change in cost 0.0344753\n",
      "Step 680, training accuracy 0.909091, cost 14.9488, change in cost 0.0339155\n",
      "Step 690, training accuracy 0.909091, cost 14.9155, change in cost 0.0333738\n",
      "Step 700, training accuracy 0.909091, cost 14.8826, change in cost 0.0328465\n",
      "Step 710, training accuracy 0.909091, cost 14.8503, change in cost 0.0323362\n",
      "Step 720, training accuracy 0.909091, cost 14.8184, change in cost 0.0318403\n",
      "Step 730, training accuracy 0.909091, cost 14.7871, change in cost 0.0313559\n",
      "Step 740, training accuracy 0.909091, cost 14.7562, change in cost 0.0308876\n",
      "Step 750, training accuracy 0.909091, cost 14.7258, change in cost 0.0304289\n",
      "Step 760, training accuracy 0.909091, cost 14.6958, change in cost 0.0299873\n",
      "Step 770, training accuracy 0.909091, cost 14.6662, change in cost 0.0295553\n",
      "Step 780, training accuracy 0.909091, cost 14.6371, change in cost 0.029129\n",
      "Step 790, training accuracy 0.909091, cost 14.6084, change in cost 0.0287228\n",
      "Step 800, training accuracy 0.909091, cost 14.5801, change in cost 0.0283203\n",
      "Step 810, training accuracy 0.909091, cost 14.5521, change in cost 0.0279293\n",
      "Step 820, training accuracy 0.909091, cost 14.5246, change in cost 0.0275469\n",
      "Step 830, training accuracy 0.909091, cost 14.4974, change in cost 0.0271759\n",
      "Step 840, training accuracy 0.909091, cost 14.4706, change in cost 0.0268126\n",
      "Step 850, training accuracy 0.919192, cost 14.4441, change in cost 0.0264568\n",
      "Step 860, training accuracy 0.919192, cost 14.418, change in cost 0.0261126\n",
      "Step 870, training accuracy 0.919192, cost 14.3922, change in cost 0.0257711\n",
      "Step 880, training accuracy 0.919192, cost 14.3668, change in cost 0.0254393\n",
      "Step 890, training accuracy 0.919192, cost 14.3417, change in cost 0.025116\n",
      "Step 900, training accuracy 0.919192, cost 14.3169, change in cost 0.0247993\n",
      "Step 910, training accuracy 0.919192, cost 14.2924, change in cost 0.0244904\n",
      "Step 920, training accuracy 0.919192, cost 14.2682, change in cost 0.0241861\n",
      "Step 930, training accuracy 0.929293, cost 14.2443, change in cost 0.0238876\n",
      "Step 940, training accuracy 0.929293, cost 14.2207, change in cost 0.0235977\n",
      "Step 950, training accuracy 0.929293, cost 14.1974, change in cost 0.0233107\n",
      "Step 960, training accuracy 0.939394, cost 14.1744, change in cost 0.023035\n",
      "Step 970, training accuracy 0.939394, cost 14.1516, change in cost 0.0227585\n",
      "Step 980, training accuracy 0.939394, cost 14.1291, change in cost 0.0224915\n",
      "Step 990, training accuracy 0.939394, cost 14.1069, change in cost 0.0222273\n",
      "Final accuracy on test data: 1.0\n"
     ]
    }
   ],
   "source": [
    "# initialize reporting variables\n",
    "cost = 0\n",
    "diff = 1\n",
    "epoch_values = []\n",
    "accuracy_values = []\n",
    "cost_values = []\n",
    "\n",
    "# Training\n",
    "for i in range(numEpochs):\n",
    "    if i>1 and diff < 0.0001:\n",
    "        print(\"Change in cost %g; convergence. \" %diff)\n",
    "        break\n",
    "    else:\n",
    "        # Run training step\n",
    "        step = sess.run(training_OP, feed_dict={X:trainX, yGold: trainY})\n",
    "        # report occasional stats\n",
    "        if i%10==0:\n",
    "            # add epoch to epoch_values\n",
    "            epoch_values.append(i)\n",
    "            # generate accuracy stats on test data\n",
    "            train_accuracy, newCost = sess.run([accuracy_OP, cost_OP], feed_dict={X:trainX, yGold:trainY})\n",
    "            # add accuracy to live graphing variable\n",
    "            accuracy_values.append(train_accuracy)\n",
    "            # add cost to live graphing bariable\n",
    "            cost_values.append(newCost)\n",
    "            #Re-assign values for variables\n",
    "            diff = abs(newCost-cost)\n",
    "            cost = newCost\n",
    "            \n",
    "            print(\"Step %d, training accuracy %g, cost %g, change in cost %g\"%(i,train_accuracy, newCost, diff))\n",
    "print('Final accuracy on test data: %s' %str(sess.run(accuracy_OP,feed_dict={X:testX, yGold:testY})))\n",
    "            "
   ]
  },
  {
   "cell_type": "code",
   "execution_count": 35,
   "metadata": {},
   "outputs": [
    {
     "name": "stderr",
     "output_type": "stream",
     "text": [
      "c:\\users\\asus\\appdata\\local\\programs\\python\\python36\\lib\\site-packages\\numpy\\core\\fromnumeric.py:3118: RuntimeWarning: Mean of empty slice.\n",
      "  out=out, **kwargs)\n",
      "c:\\users\\asus\\appdata\\local\\programs\\python\\python36\\lib\\site-packages\\numpy\\core\\_methods.py:85: RuntimeWarning: invalid value encountered in double_scalars\n",
      "  ret = ret.dtype.type(ret / rcount)\n"
     ]
    },
    {
     "data": {
      "image/png": "[encoded data removed]",
      "text/plain": [
       "<Figure size 432x288 with 1 Axes>"
      ]
     },
     "metadata": {
      "needs_background": "light"
     },
     "output_type": "display_data"
    }
   ],
   "source": [
    "%matplotlib inline\n",
    "import numpy as np\n",
    "import matplotlib.pyplot as plt\n",
    "plt.plot([np.mean(cost_values[i-50:i]) for i in range(len(cost_values))])\n",
    "plt.show()"
   ]
  },
  {
   "cell_type": "code",
   "execution_count": null,
   "metadata": {},
   "outputs": [],
   "source": []
  },
  {
   "cell_type": "code",
   "execution_count": null,
   "metadata": {},
   "outputs": [],
   "source": []
  },
  {
   "cell_type": "code",
   "execution_count": null,
   "metadata": {},
   "outputs": [],
   "source": []
  },
  {
   "cell_type": "code",
   "execution_count": null,
   "metadata": {},
   "outputs": [],
   "source": []
  },
  {
   "cell_type": "code",
   "execution_count": null,
   "metadata": {},
   "outputs": [],
   "source": []
  },
  {
   "cell_type": "code",
   "execution_count": null,
   "metadata": {},
   "outputs": [],
   "source": []
  },
  {
   "cell_type": "code",
   "execution_count": null,
   "metadata": {},
   "outputs": [],
   "source": []
  },
  {
   "cell_type": "code",
   "execution_count": null,
   "metadata": {},
   "outputs": [],
   "source": []
  },
  {
   "cell_type": "code",
   "execution_count": null,
   "metadata": {},
   "outputs": [],
   "source": []
  }
 ],
 "metadata": {
  "kernelspec": {
   "display_name": "Python 3",
   "language": "python",
   "name": "python3"
  },
  "language_info": {
   "codemirror_mode": {
    "name": "ipython",
    "version": 3
   },
   "file_extension": ".py",
   "mimetype": "text/x-python",
   "name": "python",
   "nbconvert_exporter": "python",
   "pygments_lexer": "ipython3",
   "version": "3.6.5"
  }
 },
 "nbformat": 4,
 "nbformat_minor": 2
}
