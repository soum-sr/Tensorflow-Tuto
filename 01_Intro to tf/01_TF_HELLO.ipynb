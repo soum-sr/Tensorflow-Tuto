{
 "cells": [
  {
   "cell_type": "markdown",
   "metadata": {},
   "source": [
    "<h1> Introduction to Tensorflow</h1>\n",
    "<h1>______________________________________</h1>"
   ]
  },
  {
   "cell_type": "markdown",
   "metadata": {},
   "source": [
    "<h3> What is a tensor?</h3>\n",
    "<p>A tensor is a data that's passed between the operations. In effect, a Tensor is a multidimensional array. It can be zero dimensional, such as scalar value, one dimensional as line or vector, or 2 dimensional such as Matrix, and so on.</p>\n",
    "<img src=\"table.png\">"
   ]
  },
  {
   "cell_type": "markdown",
   "metadata": {},
   "source": [
    "<h3>Data flow graph</h3>\n",
    "<p>In a dataflow graph the nodes are called operations, which represent units of computation. The edges are tensors which represent the data consumed or produced by an operation.<br><br>\n",
    "    In the diagram below, feature matrix is a <strong>placeholder.</strong> Placeholders can be sees as \"holes\" in your model, meaning \"holes\" through which you can pass the data from outside of the graph. Placeholders allow us to create our operations in the graph, without needing the data. When we want to execute the graph, we have to free the placeholders with our input data. This is why we need to <strong>initialize placeholders before using them</strong>. <br><br>\n",
    "    In the diagram below, Weight matrix is a variable. Tensorflow variables, are used to share and persist some values, that are manipulated by the program. Also when we define a placeholder or a variable, Tensorflow adds an operation to your graph.\n",
    "    <br> After all the operations we can create a session to run the graph, and perform the computations.\n",
    "    <br>\n",
    "    <img src = \"dataflow.png\">"
   ]
  },
  {
   "cell_type": "markdown",
   "metadata": {},
   "source": [
    "<p> for example, the image below represents a graph in Tensorflow. <strong>W, x</strong> and <strong>b</strong> are tensors over the edge of this graph. <strong>MatMul</strong> is an operation over the tensors <strong>W, x,</strong>. After that <strong>Add</strong> is called to add the results of previous operator and <strong>b</strong>. The resultant tensors of each operations cross the next one until the end where it's possible to get the wanted result</p>\n",
    "<img src = \"nn.png\">"
   ]
  },
  {
   "cell_type": "markdown",
   "metadata": {},
   "source": [
    "<h2>Importing tensorflow</h2>"
   ]
  },
  {
   "cell_type": "code",
   "execution_count": 28,
   "metadata": {},
   "outputs": [],
   "source": [
    "import tensorflow as tf"
   ]
  },
  {
   "cell_type": "markdown",
   "metadata": {},
   "source": [
    "<h2> Building a graph</h2>\n",
    "<p> Tensorflow works as a <strong><a href = \"https://medium.com/tebs-lab/deep-neural-networks-as-computational-graphs-867fcaa56c9\">graph computational model</a></strong>. \n",
    "    <br>\n",
    "<p> To create our first graph we will use source operations, ones that do not need any information input. These source operations or \"source ops\" will pass their info to other operations which will execute computations.\n"
   ]
  },
  {
   "cell_type": "code",
   "execution_count": 29,
   "metadata": {},
   "outputs": [],
   "source": [
    "a = tf.constant([2])\n",
    "b = tf.constant([3])"
   ]
  },
  {
   "cell_type": "markdown",
   "metadata": {},
   "source": [
    "<p>Now we will make an simple addition over the variables. The funciton <strong>tf.add()</strong> adds two elements (or simply you can do c = a + b.. but tf.add() looks cool though :-) </p>"
   ]
  },
  {
   "cell_type": "code",
   "execution_count": 30,
   "metadata": {},
   "outputs": [],
   "source": [
    "c = tf.add(a,b)"
   ]
  },
  {
   "cell_type": "markdown",
   "metadata": {},
   "source": [
    "<p> Now we will initialize a session to run our code. Sessions are a context for creating graph inside Tensorflow.</p>"
   ]
  },
  {
   "cell_type": "code",
   "execution_count": 31,
   "metadata": {},
   "outputs": [],
   "source": [
    "session = tf.Session()"
   ]
  },
  {
   "cell_type": "markdown",
   "metadata": {},
   "source": [
    "<p>Run the session to get the result</p>"
   ]
  },
  {
   "cell_type": "code",
   "execution_count": 32,
   "metadata": {},
   "outputs": [
    {
     "name": "stdout",
     "output_type": "stream",
     "text": [
      "[5]\n"
     ]
    }
   ],
   "source": [
    "result = session.run(c)\n",
    "print(result)"
   ]
  },
  {
   "cell_type": "markdown",
   "metadata": {},
   "source": [
    "<p>close the session to release the resources</p>\n"
   ]
  },
  {
   "cell_type": "code",
   "execution_count": 33,
   "metadata": {},
   "outputs": [],
   "source": [
    "session.close()"
   ]
  },
  {
   "cell_type": "markdown",
   "metadata": {},
   "source": [
    "<p>It's a drag to close the sessions all the time so <strong>with</strong> the help of <strong>with</strong> block(see what I did there :-) we can close the session automatically</p>"
   ]
  },
  {
   "cell_type": "code",
   "execution_count": 34,
   "metadata": {},
   "outputs": [
    {
     "name": "stdout",
     "output_type": "stream",
     "text": [
      "[5]\n"
     ]
    }
   ],
   "source": [
    "with tf.Session() as session:\n",
    "    result = session.run(c)\n",
    "    print(result)\n",
    "    "
   ]
  },
  {
   "cell_type": "markdown",
   "metadata": {},
   "source": [
    "<p>Now lets play around with the same objective but with tf.Graph().<br> We will create a graph, named graph1</p>"
   ]
  },
  {
   "cell_type": "code",
   "execution_count": 35,
   "metadata": {},
   "outputs": [],
   "source": [
    "graph1 = tf.Graph()"
   ]
  },
  {
   "cell_type": "markdown",
   "metadata": {},
   "source": [
    "<p>Now we can call the tensorflow functions that construct new tf.Operations and tf.Tensor objects and add them to the graph1, cause each <strong>tf.Operation is a node</strong> and each <strong>tf.Tensor is an edge in the graph.</strong>"
   ]
  },
  {
   "cell_type": "markdown",
   "metadata": {},
   "source": [
    "<p>Lets add 2 constants to our graph. For example, calling tf.constant([2], name = 'constant_a') adds a single tf.Operation to the default graph. This operation produces the value 2, and returns a tf.Tensor that represents the value of the constant.<br>\n",
    "Notice: tf.constant([2], name=\"constant_a\") creates a new tf.Operation named \"constant_a\" and returns a tf.Tensor named \"constant_a:0\".</p>"
   ]
  },
  {
   "cell_type": "code",
   "execution_count": 36,
   "metadata": {},
   "outputs": [],
   "source": [
    "with graph1.as_default():\n",
    "    a = tf.constant([2], name = 'constant_a')\n",
    "    b = tf.constant([3], name = 'constant_b')"
   ]
  },
  {
   "cell_type": "code",
   "execution_count": 37,
   "metadata": {},
   "outputs": [
    {
     "data": {
      "text/plain": [
       "<tf.Tensor 'constant_a:0' shape=(1,) dtype=int32>"
      ]
     },
     "execution_count": 37,
     "metadata": {},
     "output_type": "execute_result"
    }
   ],
   "source": [
    "a"
   ]
  },
  {
   "cell_type": "markdown",
   "metadata": {},
   "source": [
    "<p>Lets make an operation over these tensors. "
   ]
  },
  {
   "cell_type": "code",
   "execution_count": 38,
   "metadata": {},
   "outputs": [],
   "source": [
    "with graph1.as_default():\n",
    "    c = tf.add(a,b)"
   ]
  },
  {
   "cell_type": "markdown",
   "metadata": {},
   "source": [
    "<p>Then we will initialize a session to run our code. Sessions are a context for creating a graph inside Tensorflow.</p>"
   ]
  },
  {
   "cell_type": "code",
   "execution_count": 39,
   "metadata": {},
   "outputs": [],
   "source": [
    "sess = tf.Session(graph = graph1)"
   ]
  },
  {
   "cell_type": "markdown",
   "metadata": {},
   "source": [
    "<p>Lets run the session</p>"
   ]
  },
  {
   "cell_type": "code",
   "execution_count": 40,
   "metadata": {},
   "outputs": [
    {
     "name": "stdout",
     "output_type": "stream",
     "text": [
      "[5]\n"
     ]
    }
   ],
   "source": [
    "res = sess.run(c)\n",
    "print(res)\n",
    "sess.close() # or just go with that with style :-)"
   ]
  },
  {
   "cell_type": "markdown",
   "metadata": {},
   "source": [
    "<h2>Multidimensional arrays using Tensorflow</h2>"
   ]
  },
  {
   "cell_type": "markdown",
   "metadata": {},
   "source": [
    "<p>Now lets start some simple yet cool stuff</p>"
   ]
  },
  {
   "cell_type": "code",
   "execution_count": 41,
   "metadata": {},
   "outputs": [
    {
     "name": "stdout",
     "output_type": "stream",
     "text": [
      "Scalar : 2\n",
      "Vector: [1 2 3]\n",
      "Matrix : [[1 2 3]\n",
      " [4 5 6]\n",
      " [7 8 9]]\n",
      "Tensor : [[[ 1  2  3]\n",
      "  [ 2  3  4]\n",
      "  [ 3  4  5]]\n",
      "\n",
      " [[ 4  5  6]\n",
      "  [ 5  6  7]\n",
      "  [ 6  7  8]]\n",
      "\n",
      " [[ 7  8  9]\n",
      "  [ 8  9 10]\n",
      "  [ 9 10 11]]]\n"
     ]
    }
   ],
   "source": [
    "graph2 = tf.Graph()\n",
    "with graph2.as_default():\n",
    "    Scalar = tf.constant(2)\n",
    "    Vector = tf.constant([1,2,3])\n",
    "    Matrix = tf.constant([[1,2,3],[4,5,6],[7,8,9]])\n",
    "    Tensor = tf.constant([[[1,2,3],[2,3,4],[3,4,5]] , [[4,5,6],[5,6,7],[6,7,8]] , [[7,8,9],[8,9,10],[9,10,11]]])\n",
    "\n",
    "with tf.Session(graph = graph2) as sess:\n",
    "    result = sess.run(Scalar)\n",
    "    print(\"Scalar : %s\" % result)\n",
    "    result = sess.run(Vector)\n",
    "    print(\"Vector: %s\" % result)\n",
    "    result = sess.run(Matrix)\n",
    "    print(\"Matrix : %s\" % result)\n",
    "    result = sess.run(Tensor)\n",
    "    print(\"Tensor : %s\" % result)"
   ]
  },
  {
   "cell_type": "code",
   "execution_count": 42,
   "metadata": {},
   "outputs": [
    {
     "name": "stdout",
     "output_type": "stream",
     "text": [
      "()\n",
      "(3,)\n",
      "(3, 3)\n",
      "(3, 3, 3)\n"
     ]
    }
   ],
   "source": [
    "print(Scalar.shape)\n",
    "print(Vector.shape)\n",
    "print(Matrix.shape)\n",
    "print(Tensor.shape)"
   ]
  },
  {
   "cell_type": "markdown",
   "metadata": {},
   "source": [
    "<p>Now lets play around with them</p>"
   ]
  },
  {
   "cell_type": "code",
   "execution_count": 43,
   "metadata": {},
   "outputs": [
    {
     "name": "stdout",
     "output_type": "stream",
     "text": [
      "By using tf.add(): \n",
      " [[3 4 5]\n",
      " [4 5 6]\n",
      " [5 6 7]]\n",
      "By using '+': \n",
      " [[3 4 5]\n",
      " [4 5 6]\n",
      " [5 6 7]]\n"
     ]
    }
   ],
   "source": [
    "graph3 = tf.Graph()\n",
    "with graph3.as_default():\n",
    "    Matrix_one = tf.constant([[1,2,3],[2,3,4],[3,4,5]])\n",
    "    Matrix_two = tf.constant([[2,2,2],[2,2,2],[2,2,2]])\n",
    "    \n",
    "    add_1_operation = tf.add(Matrix_one, Matrix_two)\n",
    "    add_2_operation = Matrix_one + Matrix_two\n",
    "    \n",
    "with tf.Session(graph = graph3) as sess:\n",
    "    result = sess.run(add_1_operation)\n",
    "    print(\"By using tf.add(): \\n\", result)\n",
    "    result = sess.run(add_2_operation)\n",
    "    print(\"By using '+': \\n\", result)\n",
    "    "
   ]
  },
  {
   "cell_type": "markdown",
   "metadata": {},
   "source": [
    "<p>With the regular symbol definition and also the Tensorflow function we were able to get an element-wise multiplication, known as <b>Hadamard Product</b>.<br> <br>But for matrix multiplication? We have tf.matmul()"
   ]
  },
  {
   "cell_type": "code",
   "execution_count": 44,
   "metadata": {},
   "outputs": [
    {
     "name": "stdout",
     "output_type": "stream",
     "text": [
      "[[13 16]\n",
      " [29 36]]\n"
     ]
    }
   ],
   "source": [
    "graph4 = tf.Graph()\n",
    "with graph4.as_default():\n",
    "    Matrix_one = tf.constant([[1,2],[3,4]])\n",
    "    Matrix_two = tf.constant([[3,4],[5,6]])\n",
    "    \n",
    "    multi = tf.matmul(Matrix_one, Matrix_two)\n",
    "    \n",
    "with tf.Session(graph=graph4) as sess:\n",
    "    result = sess.run(multi)\n",
    "    print(result)"
   ]
  },
  {
   "cell_type": "markdown",
   "metadata": {},
   "source": [
    "<h2>Variables</h2>"
   ]
  },
  {
   "cell_type": "markdown",
   "metadata": {},
   "source": [
    "<p><b>Why do we need variables?</b></p>\n",
    "<p>TensorFlow variables are used to share and persistent some stats that are manipulated by our program. Means, when we define a variable, Tensorflow adds a tf.Operation to our graph. Then, this operation will store a writable tensor value that persists between tf.Session.run calls. So, you can update the value of a variable through each run, while you cannot update tensor(e.g a tensor created by tf.constant()) through multiple runs in a session.</p>\n",
    "\n",
    "<br>\n",
    "<b>How to define a variable?</b>\n",
    "<p>Use the command <b>tf.Variable()<b>. To be able use variables in a computation graph it is necessary to initialize them before running the graph in a session, which is done by <b>tf.global_variables_initializer()</b>."
   ]
  },
  {
   "cell_type": "code",
   "execution_count": 45,
   "metadata": {},
   "outputs": [],
   "source": [
    "v = tf.Variable(20)"
   ]
  },
  {
   "cell_type": "markdown",
   "metadata": {},
   "source": [
    "<p>Let's first create a simple counter, a variable that increases one unit at a time:</p>\n",
    "<p>To do this we use the <b>tf.assign(reference_variable, value_to_update) command. tf.assign takes in two arguments, the <b>reference_variable</b> to update, and assign it to the <b>value_to_update</b> it by."
   ]
  },
  {
   "cell_type": "code",
   "execution_count": 46,
   "metadata": {},
   "outputs": [],
   "source": [
    "update = tf.assign(v, v+1)"
   ]
  },
  {
   "cell_type": "markdown",
   "metadata": {},
   "source": [
    "<p>Variables must be initialized by running an initialization operation after having launched the graph. We first have add the initialization operation to the graph:</p>"
   ]
  },
  {
   "cell_type": "code",
   "execution_count": 47,
   "metadata": {},
   "outputs": [],
   "source": [
    "init_op = tf.global_variables_initializer()"
   ]
  },
  {
   "cell_type": "code",
   "execution_count": 48,
   "metadata": {},
   "outputs": [
    {
     "name": "stdout",
     "output_type": "stream",
     "text": [
      "20\n",
      "21\n",
      "22\n",
      "23\n"
     ]
    }
   ],
   "source": [
    "with tf.Session() as session:\n",
    "    session.run(init_op)\n",
    "    print(session.run(v))\n",
    "    for _ in range(3):\n",
    "        session.run(update)\n",
    "        print(session.run(v))"
   ]
  },
  {
   "cell_type": "markdown",
   "metadata": {},
   "source": [
    "<h2>Placeholders</h2>"
   ]
  },
  {
   "cell_type": "markdown",
   "metadata": {},
   "source": [
    "<p>If we want to feed data to a Tensorflow graph from outside a graph, we are going to need to use placeholders.</p>\n",
    "<br>\n",
    "<b>What are placeholders?</b>\n",
    "<p>Placeholders can be visualized as \"holes\" in your model, \"holes\" which allows to pass the data. We can create them using <b>tf.placeholder(datatype)</b>, where <b><i>datatype</i></b> specifies the type of data (int, float, str, bool) along with its precision(8,16,32,64) bits.</p>\n",
    "<img src = \"data.png\">\n"
   ]
  },
  {
   "cell_type": "markdown",
   "metadata": {},
   "source": [
    "<p>Create a placeholder</p>"
   ]
  },
  {
   "cell_type": "code",
   "execution_count": 49,
   "metadata": {},
   "outputs": [],
   "source": [
    "a = tf.placeholder(tf.float32)"
   ]
  },
  {
   "cell_type": "markdown",
   "metadata": {},
   "source": [
    "<p>Define a multiplication operation</p>"
   ]
  },
  {
   "cell_type": "code",
   "execution_count": 50,
   "metadata": {},
   "outputs": [],
   "source": [
    "b = a *2"
   ]
  },
  {
   "cell_type": "markdown",
   "metadata": {},
   "source": [
    "<p>Now we need to define and run the session, but since we created a \"hole\" in the model to pass the data, when we initialize the session we are obligated to pass an argument with the data, otherwise we'll get an error.</p>\n",
    "<br>\n",
    "<p>To pass the data into the model we call the session with an extra argument <b>feed_dict</b> in which we should pass a dictionary with each placeholder name followed by its data.</p>"
   ]
  },
  {
   "cell_type": "code",
   "execution_count": 51,
   "metadata": {},
   "outputs": [
    {
     "name": "stdout",
     "output_type": "stream",
     "text": [
      "14.0\n"
     ]
    }
   ],
   "source": [
    "with tf.Session() as sess:\n",
    "    result = sess.run(b, feed_dict = {a:7})\n",
    "    print(result)"
   ]
  },
  {
   "cell_type": "markdown",
   "metadata": {},
   "source": [
    "<p>Since data in Tensorflow is passed in from of multidimensional arrays we can pass any kind of tensro through the placeholders to get the answer to the simple multiplication operation</p>"
   ]
  },
  {
   "cell_type": "code",
   "execution_count": 52,
   "metadata": {},
   "outputs": [
    {
     "name": "stdout",
     "output_type": "stream",
     "text": [
      "[[[ 2.  4.  6.]\n",
      "  [ 8. 10. 12.]\n",
      "  [14. 16. 18.]\n",
      "  [20. 22. 24.]]\n",
      "\n",
      " [[26. 28. 30.]\n",
      "  [32. 34. 36.]\n",
      "  [38. 40. 42.]\n",
      "  [44. 46. 48.]]]\n"
     ]
    }
   ],
   "source": [
    "our_tensors ={a: [[[1,2,3],[4,5,6],[7,8,9],[10,11,12]] , [[13,14,15],[16,17,18],[19,20,21],[22,23,24]]]}\n",
    "\n",
    "with tf.Session() as sess:\n",
    "    result = sess.run(b, feed_dict = our_tensors)\n",
    "    print(result)"
   ]
  },
  {
   "cell_type": "markdown",
   "metadata": {},
   "source": [
    "<h2>Operations</h2>\n",
    "<p>These are the nodes that represent mathematical operations over the tensors in the graph, like add, subtract and multiply or even functions like activation functions.</p>\n",
    "<br>\n",
    "<p><b>tf.constant</b>, <b>tf.add</b>, <b>tf.matmul</b>, <b>tf.nn.sigmoid</b> are some operations(nodes) in Tensorflow. These are like function in python but operate directly over tensors and each does one specific thing</p>\n"
   ]
  },
  {
   "cell_type": "code",
   "execution_count": 55,
   "metadata": {},
   "outputs": [
    {
     "name": "stdout",
     "output_type": "stream",
     "text": [
      "c = [7]\n",
      "d = [3]\n",
      "e = 0.81757444\n"
     ]
    }
   ],
   "source": [
    "graph5 = tf.Graph()\n",
    "with graph5.as_default():\n",
    "    a = tf.constant([5])\n",
    "    b = tf.constant([2])\n",
    "    sig = tf.placeholder(tf.float32)\n",
    "    c = tf.add(a,b)\n",
    "    d = tf.subtract(a,b)\n",
    "    e = tf.nn.sigmoid(sig)\n",
    "\n",
    "with tf.Session(graph = graph5) as sess:\n",
    "    result = sess.run(c)\n",
    "    print('c = %s' % result)\n",
    "    result = sess.run(d)\n",
    "    print('d = %s' % result)\n",
    "    result = sess.run(e, feed_dict = {sig:1.5})\n",
    "    print('e = %s' % result)"
   ]
  },
  {
   "cell_type": "markdown",
   "metadata": {},
   "source": [
    "<p>Thats the basics</p><h1>:-)</h1>\n",
    "<h1>!!!WELCOME TO TENSORFLOW!!!</h1>"
   ]
  },
  {
   "cell_type": "code",
   "execution_count": null,
   "metadata": {},
   "outputs": [],
   "source": []
  },
  {
   "cell_type": "code",
   "execution_count": null,
   "metadata": {},
   "outputs": [],
   "source": []
  },
  {
   "cell_type": "code",
   "execution_count": null,
   "metadata": {},
   "outputs": [],
   "source": []
  },
  {
   "cell_type": "code",
   "execution_count": null,
   "metadata": {},
   "outputs": [],
   "source": []
  }
 ],
 "metadata": {
  "kernelspec": {
   "display_name": "Python 3",
   "language": "python",
   "name": "python3"
  },
  "language_info": {
   "codemirror_mode": {
    "name": "ipython",
    "version": 3
   },
   "file_extension": ".py",
   "mimetype": "text/x-python",
   "name": "python",
   "nbconvert_exporter": "python",
   "pygments_lexer": "ipython3",
   "version": "3.6.5"
  }
 },
 "nbformat": 4,
 "nbformat_minor": 2
}
